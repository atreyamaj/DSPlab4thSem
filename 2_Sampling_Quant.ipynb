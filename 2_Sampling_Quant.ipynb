{
 "cells": [
  {
   "cell_type": "markdown",
   "metadata": {},
   "source": [
    "## Sampling of Signals \n",
    "Sample the analog signal $sin ( 10 \\pi t)$ at the following frequencies (a) 100 Hz (b) 20 Hz (c) 7.5 Hz (d) 5 Hz. Plot and find the period of the discrete time signal in each case. Observe the effect of aliasing. "
   ]
  },
  {
   "cell_type": "code",
   "execution_count": 1,
   "metadata": {
    "scrolled": true
   },
   "outputs": [
    {
     "data": {
      "text/plain": [
       "<Figure size 640x480 with 1 Axes>"
      ]
     },
     "metadata": {},
     "output_type": "display_data"
    }
   ],
   "source": [
    "import numpy as np \n",
    "import matplotlib.pyplot as plt\n",
    "fs=np.array([100,20,7.5,5]);\n",
    "n0=np.arange(0,1,1.0/fs[0])\n",
    "n1=np.arange(0,1,1.0/fs[1])\n",
    "n2=np.arange(0,1,1.0/fs[2])\n",
    "n3=np.arange(0,1,1.0/fs[3])\n",
    "x0=np.sin(10*np.pi*n0)\n",
    "x1=np.sin(10*np.pi*n1)\n",
    "x2=np.sin(10*np.pi*n2)\n",
    "x3=np.sin(10*np.pi*n3)\n",
    "\n",
    "fig, ax = plt.subplots()\n",
    "\n",
    "l1 = ax.plot(n0,x0, linewidth=2, label='100hz')\n",
    "l2 = ax.plot(n1,x1, linewidth=2, label='20hz')\n",
    "l3 = ax.plot(n2,x2, linewidth=2, label='7.5hz')\n",
    "plt.plot(n3,x3, linewidth=2, label='5hz')\n",
    "\n",
    "ax.legend(loc='lower right')\n",
    "\n",
    "plt.show()\n",
    "\n"
   ]
  },
  {
   "cell_type": "markdown",
   "metadata": {},
   "source": [
    "\n",
    "Sample the signal $x[n]= Acos(20\\pi t^2)$ with Fs=50Hz and Fs=200Hz. Plot the signal from t=0 to t=1sec in each case. Observe the difference between the two sampling rates. Also sample the signal from t=0 to t=5sec with 8kHz and listen to it.\n",
    "\n",
    "To listen to a signal, write the signal to a file using wave write command  from scipy\n",
    "Please look up the documentation <a href=https://docs.scipy.org/doc/scipy-0.14.0/reference/generated/scipy.io.wavfile.write.html>here</a>.   Then download the signal and listen to it. "
   ]
  },
  {
   "cell_type": "code",
   "execution_count": 11,
   "metadata": {},
   "outputs": [],
   "source": [
    "import numpy as np \n",
    "import scipy.io.wavfile as wav\n",
    "import matplotlib.pyplot as plt\n",
    "import scipy.io.wavfile as wav\n",
    "fs=np.array([50,8000])\n",
    "t0=np.arange(0,5,1/fs[0])\n",
    "t1=np.arange(0,5,1/fs[1])\n",
    "x0=100*np.cos(20*np.pi*t0*t0)\n",
    "x1=100*np.cos(20*np.pi*t1*t1)\n",
    "\n",
    "#f, axarr = plt.subplots(2, sharex=True)   #Sharing X-axis\n",
    "#axarr[0].stem(t0,x0)\n",
    "#axarr[0].set_title('Cosine plot')\n",
    "#axarr[1].stem(t1,x1)\n",
    "#0axarr[1].set_title('Sine plot')\n",
    "#plt.show()\n",
    "\n",
    "\n",
    "wav.write(\"sound1\",fs[1],x1)"
   ]
  },
  {
   "cell_type": "markdown",
   "metadata": {},
   "source": [
    "In DTMF dialling a number is represented by a dual frequency tone. Do a\n",
    "web search and find the frequencies of each digit. Generate DTMF tones\n",
    "corresponding to the telephone number 08242474040 by sampling the sum\n",
    "of sinusoids at the required frequencies at Fs = 8192 Hz. Concatenate the\n",
    "signals by putting 50 zeros between each signal (to represent silence) and\n",
    "listen to the signal. (Must sound like tone dialling the number from\n",
    "a phone)"
   ]
  },
  {
   "cell_type": "code",
   "execution_count": 22,
   "metadata": {},
   "outputs": [
    {
     "name": "stdout",
     "output_type": "stream",
     "text": [
      "[ 0.          0.          1.51524827 ... -0.89591874 -1.87954532\n",
      " -1.51524827]\n"
     ]
    }
   ],
   "source": [
    "#write code here\n",
    "fl=np.array([941,697,697,697,770,770,770,852,852,852])\n",
    "fh=np.array([1336,1209,1336,1477,1209,1336,1477,1209,1336,1477])\n",
    "n=np.arange(0,1,1/8192)\n",
    "t0=np.sin(2*np.pi*fl[0]*n)+np.sin(2*np.pi*fh[0]*n)\n",
    "t1=np.sin(2*np.pi*fl[8]*n)+np.sin(2*np.pi*fh[8]*n)\n",
    "t2=np.sin(2*np.pi*fl[2]*n)+np.sin(2*np.pi*fh[2]*n)\n",
    "t3=np.sin(2*np.pi*fl[4]*n)+np.sin(2*np.pi*fh[4]*n)\n",
    "t4=np.sin(2*np.pi*fl[2]*n)+np.sin(2*np.pi*fh[2]*n)\n",
    "t5=np.sin(2*np.pi*fl[4]*n)+np.sin(2*np.pi*fh[4]*n)\n",
    "t6=np.sin(2*np.pi*fl[7]*n)+np.sin(2*np.pi*fh[7]*n)\n",
    "t7=np.sin(2*np.pi*fl[4]*n)+np.sin(2*np.pi*fh[4]*n)\n",
    "t8=np.sin(2*np.pi*fl[0]*n)+np.sin(2*np.pi*fh[0]*n)\n",
    "t9=np.sin(2*np.pi*fl[4]*n)+np.sin(2*np.pi*fh[4]*n)\n",
    "t10=np.sin(2*np.pi*fl[0]*n)+np.sin(2*np.pi*fh[0]*n)\n",
    "z=np.zeros(1000)\n",
    "tone=0\n",
    "tone= np.append(tone,t0)\n",
    "tone= np.append(tone,z)\n",
    "tone= np.append(tone,t1)\n",
    "tone= np.append(tone,z)\n",
    "tone= np.append(tone,t2)\n",
    "tone= np.append(tone,z)\n",
    "tone= np.append(tone,t3)\n",
    "tone= np.append(tone,z)\n",
    "tone= np.append(tone,t4)\n",
    "tone= np.append(tone,z)\n",
    "tone= np.append(tone,t5)\n",
    "tone= np.append(tone,z)\n",
    "tone= np.append(tone,t6)\n",
    "tone= np.append(tone,z)\n",
    "tone= np.append(tone,t7)\n",
    "tone= np.append(tone,z)\n",
    "tone= np.append(tone,t8)\n",
    "tone= np.append(tone,z)\n",
    "tone= np.append(tone,t9)\n",
    "tone= np.append(tone,z)\n",
    "tone= np.append(tone,t10)\n",
    "print(tone)\n",
    "wav.write(\"phoneNumber\",8192,tone)\n"
   ]
  },
  {
   "cell_type": "markdown",
   "metadata": {},
   "source": [
    "Record your own voice for half a minute and observe the time domain\n",
    "waveform (It can be done using a sound recording program in the computer. Please save in *.wav format, upload it  and read it using wavread command\n",
    "in Python for further processing).  Please look https://docs.scipy.org/doc/scipy-0.14.0/reference/generated/scipy.io.wavfile.read.html for documentation <br>\n",
    "\n",
    "\n",
    "(a) Plot the signal .\n",
    "Find the sampling rate used by the recorder<br>\n",
    "(b) quantize to 2 bit, 4 bit, 16 bits and listen ..  "
   ]
  },
  {
   "cell_type": "code",
   "execution_count": null,
   "metadata": {},
   "outputs": [],
   "source": [
    "#write code here"
   ]
  }
 ],
 "metadata": {
  "kernelspec": {
   "display_name": "Python 3",
   "language": "python",
   "name": "python3"
  },
  "language_info": {
   "codemirror_mode": {
    "name": "ipython",
    "version": 3
   },
   "file_extension": ".py",
   "mimetype": "text/x-python",
   "name": "python",
   "nbconvert_exporter": "python",
   "pygments_lexer": "ipython3",
   "version": "3.4.3"
  }
 },
 "nbformat": 4,
 "nbformat_minor": 2
}
