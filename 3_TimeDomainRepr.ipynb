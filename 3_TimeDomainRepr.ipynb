{
 "cells": [
  {
   "cell_type": "markdown",
   "metadata": {},
   "source": [
    "## Time domain representation of LTI systems\n",
    "\n",
    "For the LTI systems described by the following difference equations, generate its impulse response, and unit step response. Comment on the properties of the system (Stable, Causal, ...)\n",
    "\n",
    " <ol>\n",
    "  <li>$y[n] − 0.5y[n − 1] + 0.25y[n − 2] = 0.5x[n] + 0.2x[n − 1] + 0.2x[n − 2]$  </li>\n",
    " <li>$y[n] = 0.77y[n − 1] + x[n] + x[n − 1]$  </li>\n",
    "  <li>$y[n] = 0.77y[n − 1] + 0.77x[n] + x[n − 1]$ </li>\n",
    "</ol>\n",
    "\n",
    "(use function <i>scipy.signal.dimpulse</i> to determine the impulse response and <i>scipy.signal.lfilter</i> to find the\n",
    "output)\n",
    "\n",
    "Details about <i>scipy.signal.dimpulse</i> can be found here, https://docs.scipy.org/doc/scipy/reference/generated/scipy.signal.dimpulse.html#scipy.signal.dimpulse\n",
    "\n",
    "Details about <i>scipy.signal.lfilter</i> can be found here, https://docs.scipy.org/doc/scipy-0.19.0/reference/generated/scipy.signal.lfilter.html#scipy.signal.lfilter"
   ]
  },
  {
   "cell_type": "code",
   "execution_count": null,
   "metadata": {
    "scrolled": true
   },
   "outputs": [],
   "source": [
    "#write code here"
   ]
  },
  {
   "cell_type": "markdown",
   "metadata": {},
   "source": [
    "Plot the response of the following filters if the input is \n",
    "<ul>\n",
    "  <li>$x[n] = 0.1n + sin(0.1nπ);    0 ≤ n ≤ 60 $  </li>\n",
    " <li>$ x[n] = 0.1n + sin(0.1nπ) + w[n];     0 ≤ n ≤ 60;$  </li> \n",
    "</ul> $w[n]$ is zero mean uniformly distributed random noise in $[−0.5\\,\\,  0.5]$.\n",
    "<ol>\n",
    "    <li> $y[n] = \\frac{1}{4} \\sum_{k=0}^3  x[n − k]$ </li>\n",
    "    <li>$y[n] = \\frac{2}{N(N+1)} \\sum_{k=0}^{N−1}(N − k)x[n − k]; N = 4$ </li>\n",
    "\n",
    "</ol>\n",
    "    \n",
    "(use function <i>rand</i> to generate random noise)  https://docs.scipy.org/doc/numpy-1.13.0/reference/generated/numpy.random.rand.html\n",
    "\n",
    " <i>uniform</i>  https://docs.scipy.org/doc/numpy-1.12.0/reference/generated/numpy.random.uniform.html"
   ]
  },
  {
   "cell_type": "code",
   "execution_count": null,
   "metadata": {},
   "outputs": [],
   "source": [
    "#write code here"
   ]
  },
  {
   "cell_type": "markdown",
   "metadata": {},
   "source": [
    "Consider a round theatre where an orchestra is in the middle of two concentric circles and the walls on one half side are at a radial distances of $17.15m$ (inner circle) and $34.3m$ (outer circle) on the other side from the\n",
    "orchestra. The speed of sound is $343 m/s$. Assume that the recorded signal is the sum of the original signal and the attenuated echoes from the two walls and is given by $r[n] = y[n] + 0.8y[n − N1] + 0.6y[n − N2]$ where,\n",
    "$N1$ is the delay caused by the closest wall and N2 is the delay caused by the farther wall. The recorder is in the centre of the theatre. Take any audio signal available and generate $r[n]$ and listen to both the original and\n",
    "the echoed signal."
   ]
  },
  {
   "cell_type": "code",
   "execution_count": null,
   "metadata": {},
   "outputs": [],
   "source": [
    "#write code here"
   ]
  }
 ],
 "metadata": {
  "kernelspec": {
   "display_name": "Python 3",
   "language": "python",
   "name": "python3"
  },
  "language_info": {
   "codemirror_mode": {
    "name": "ipython",
    "version": 3
   },
   "file_extension": ".py",
   "mimetype": "text/x-python",
   "name": "python",
   "nbconvert_exporter": "python",
   "pygments_lexer": "ipython3",
   "version": "3.4.3"
  }
 },
 "nbformat": 4,
 "nbformat_minor": 2
}
